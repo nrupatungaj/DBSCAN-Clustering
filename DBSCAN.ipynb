{
 "cells": [
  {
   "cell_type": "code",
   "execution_count": 2,
   "metadata": {},
   "outputs": [],
   "source": [
    "import numpy as np\n",
    "import pandas as pd\n",
    "from sklearn.cluster import DBSCAN\n",
    "from sklearn import metrics\n",
    "from sklearn.preprocessing import StandardScaler"
   ]
  },
  {
   "cell_type": "markdown",
   "metadata": {},
   "source": [
    "### Importing Dataset"
   ]
  },
  {
   "cell_type": "code",
   "execution_count": 3,
   "metadata": {},
   "outputs": [
    {
     "name": "stdout",
     "output_type": "stream",
     "text": [
      "Index(['Stn Code', 'Sampling Date', 'State', 'City/Town/Village/Area',\n",
      "       'Location of Monitoring Station', 'Agency', 'Type of Location', 'SO2',\n",
      "       'NO2', 'RSPM/PM10', 'SPM'],\n",
      "      dtype='object')\n"
     ]
    }
   ],
   "source": [
    "#original dataset\n",
    "data = pd.read_csv('India_Air_Quality_Data_For_TamilNadu.csv')\n",
    "#get the column names\n",
    "print(data.columns)"
   ]
  },
  {
   "cell_type": "code",
   "execution_count": 4,
   "metadata": {},
   "outputs": [
    {
     "name": "stdout",
     "output_type": "stream",
     "text": [
      "         SO2        NO2   RSPM/PM10         SPM City/Town/Village/Area\n",
      "0       9.60  17.166667   73.333333  149.666667                Chennai\n",
      "1      11.15  20.283333   61.333333  150.333333                Chennai\n",
      "2      12.45  20.516667   75.000000  114.666667                Chennai\n",
      "3      10.75  18.183333  120.000000  197.666667                Chennai\n",
      "4       9.78  17.320000   96.500000  216.000000                Chennai\n",
      "...      ...        ...         ...         ...                    ...\n",
      "12346  13.00  22.000000  118.000000         NaN                 Trichy\n",
      "12347    NaN        NaN  104.000000         NaN                 Trichy\n",
      "12348  14.00  24.000000  132.000000         NaN                 Trichy\n",
      "12349  15.00  25.000000  147.000000         NaN                 Trichy\n",
      "12350  15.00  24.000000  138.000000         NaN                 Trichy\n",
      "\n",
      "[12351 rows x 5 columns]\n"
     ]
    }
   ],
   "source": [
    "#extracted dataset for clustering cities based on pollution\n",
    "df = pd.DataFrame(data, columns=['SO2','NO2', 'RSPM/PM10', 'SPM', 'City/Town/Village/Area'])\n",
    "print(df)"
   ]
  },
  {
   "cell_type": "markdown",
   "metadata": {},
   "source": [
    "### Pre-Processing"
   ]
  },
  {
   "cell_type": "code",
   "execution_count": 5,
   "metadata": {},
   "outputs": [
    {
     "name": "stdout",
     "output_type": "stream",
     "text": [
      "        SO2        NO2   RSPM/PM10         SPM City/Town/Village/Area\n",
      "0      9.60  17.166667   73.333333  149.666667                Chennai\n",
      "1     11.15  20.283333   61.333333  150.333333                Chennai\n",
      "2     12.45  20.516667   75.000000  114.666667                Chennai\n",
      "3     10.75  18.183333  120.000000  197.666667                Chennai\n",
      "4      9.78  17.320000   96.500000  216.000000                Chennai\n",
      "...     ...        ...         ...         ...                    ...\n",
      "1807  10.00  21.000000  119.000000   19.000000                 Trichy\n",
      "1808  12.00  23.000000  134.000000   20.400000                 Trichy\n",
      "1809  16.00  24.000000  138.000000   30.000000                 Trichy\n",
      "1810  13.00  25.000000  134.000000   34.000000                 Trichy\n",
      "1811  15.00  22.000000  145.000000   36.000000                 Trichy\n",
      "\n",
      "[1812 rows x 5 columns]\n"
     ]
    }
   ],
   "source": [
    "#droping NaN values of rows\n",
    "df = df.dropna()\n",
    "\n",
    "# To reset the indices \n",
    "df = df.reset_index(drop = True)\n",
    "print(df)"
   ]
  },
  {
   "cell_type": "code",
   "execution_count": 10,
   "metadata": {},
   "outputs": [
    {
     "name": "stdout",
     "output_type": "stream",
     "text": [
      "Count values of each unique cities:\n",
      " Chennai        719\n",
      "Coimbatore     348\n",
      "Madurai        310\n",
      "Thoothukudi    233\n",
      "Salem          123\n",
      "Name: City/Town/Village/Area, dtype: int64\n",
      "\n",
      "Finalized Dataset for our model:\n",
      "         SO2        NO2   RSPM/PM10         SPM City/Town/Village/Area\n",
      "0      9.60  17.166667   73.333333  149.666667                Chennai\n",
      "1     11.15  20.283333   61.333333  150.333333                Chennai\n",
      "2     12.45  20.516667   75.000000  114.666667                Chennai\n",
      "3     10.75  18.183333  120.000000  197.666667                Chennai\n",
      "4      9.78  17.320000   96.500000  216.000000                Chennai\n",
      "...     ...        ...         ...         ...                    ...\n",
      "1728  12.00  14.000000   82.000000   15.000000                Chennai\n",
      "1729  10.00  13.000000   66.000000   23.000000                Chennai\n",
      "1730  13.00  17.000000   98.000000   33.000000                Chennai\n",
      "1731  11.00  15.000000  200.000000  141.000000                Chennai\n",
      "1732  11.00  19.000000   85.000000   35.000000                Chennai\n",
      "\n",
      "[1733 rows x 5 columns]\n"
     ]
    }
   ],
   "source": [
    "#to remove the data which as less than 100 count\n",
    "count = df.iloc[:,4].value_counts()\n",
    "print('Count values of each unique cities:\\n', count)\n",
    "remove = count[count<100].index\n",
    "for i in remove:\n",
    "    df = df.drop(df[df['City/Town/Village/Area'] == i].index)\n",
    "    \n",
    "df = df.reset_index(drop = True)\n",
    "print('\\nFinalized Dataset for our model:\\n', df)"
   ]
  },
  {
   "cell_type": "code",
   "execution_count": 11,
   "metadata": {},
   "outputs": [],
   "source": [
    "#assigning pollution data to X for DBSCAN clustering\n",
    "X = df.iloc[:,:-1].values\n"
   ]
  },
  {
   "cell_type": "code",
   "execution_count": 12,
   "metadata": {},
   "outputs": [
    {
     "name": "stdout",
     "output_type": "stream",
     "text": [
      "['Chennai' 'Coimbatore' 'Madurai' 'Salem' 'Thoothukudi']\n"
     ]
    }
   ],
   "source": [
    "#to know unique vales in city\n",
    "print(df.iloc[:,4].unique())"
   ]
  },
  {
   "cell_type": "code",
   "execution_count": 13,
   "metadata": {},
   "outputs": [
    {
     "name": "stdout",
     "output_type": "stream",
     "text": [
      "[0 1 2 3 4]\n"
     ]
    }
   ],
   "source": [
    "#replacing citites name to number for ease computation (for the machine to understand)\n",
    "labels_true = df.iloc[:,4].replace({'Chennai':0, 'Coimbatore':1, 'Madurai':2, 'Salem':3, 'Thoothukudi':4})\n",
    "print(labels_true.unique())"
   ]
  },
  {
   "cell_type": "code",
   "execution_count": 14,
   "metadata": {},
   "outputs": [
    {
     "data": {
      "text/plain": [
       "array([0, 0, 0, ..., 0, 0, 0], dtype=int64)"
      ]
     },
     "execution_count": 14,
     "metadata": {},
     "output_type": "execute_result"
    }
   ],
   "source": [
    "#converting to array\n",
    "labels_true = labels_true.values\n",
    "labels_true\n"
   ]
  },
  {
   "cell_type": "code",
   "execution_count": 15,
   "metadata": {},
   "outputs": [],
   "source": [
    "X = StandardScaler().fit_transform(X)\n"
   ]
  },
  {
   "cell_type": "code",
   "execution_count": 16,
   "metadata": {},
   "outputs": [
    {
     "name": "stdout",
     "output_type": "stream",
     "text": [
      "Estimated number of clusters: 5\n",
      "Estimated number of noise points: 1138\n",
      "Homogeneity: 0.218\n",
      "Completeness: 0.290\n",
      "V-measure: 0.249\n",
      "Adjusted Rand Index: 0.057\n",
      "Adjusted Mutual Information: 0.245\n",
      "Silhouette Coefficient: -0.077\n"
     ]
    }
   ],
   "source": [
    "# Compute DBSCAN\n",
    "db = DBSCAN(eps=0.3, min_samples=16).fit(X)\n",
    "core_samples_mask = np.zeros_like(db.labels_, dtype=bool)\n",
    "core_samples_mask[db.core_sample_indices_] = True\n",
    "labels = db.labels_\n",
    "\n",
    "# Number of clusters in labels, ignoring noise if present.\n",
    "n_clusters_ = len(set(labels)) - (1 if -1 in labels else 0)\n",
    "n_noise_ = list(labels).count(-1)\n",
    "\n",
    "print('Estimated number of clusters: %d' % n_clusters_)\n",
    "print('Estimated number of noise points: %d' % n_noise_)\n",
    "print(\"Homogeneity: %0.3f\" % metrics.homogeneity_score(labels_true, labels))\n",
    "print(\"Completeness: %0.3f\" % metrics.completeness_score(labels_true, labels))\n",
    "print(\"V-measure: %0.3f\" % metrics.v_measure_score(labels_true, labels))\n",
    "print(\"Adjusted Rand Index: %0.3f\"\n",
    "      % metrics.adjusted_rand_score(labels_true, labels))\n",
    "print(\"Adjusted Mutual Information: %0.3f\"\n",
    "      % metrics.adjusted_mutual_info_score(labels_true, labels))\n",
    "print(\"Silhouette Coefficient: %0.3f\"\n",
    "      % metrics.silhouette_score(X, labels))"
   ]
  },
  {
   "cell_type": "code",
   "execution_count": 17,
   "metadata": {},
   "outputs": [
    {
     "data": {
      "image/png": "[encoded data removed]",
      "text/plain": [
       "<Figure size 432x288 with 1 Axes>"
      ]
     },
     "metadata": {
      "needs_background": "light"
     },
     "output_type": "display_data"
    }
   ],
   "source": [
    "# Plot result\n",
    "import matplotlib.pyplot as plt\n",
    "\n",
    "# Black removed and is used for noise instead.\n",
    "unique_labels = set(labels_true)\n",
    "colors = [plt.cm.Spectral(each)\n",
    "          for each in np.linspace(0, 1, len(unique_labels))]\n",
    "for k, col in zip(unique_labels, colors):\n",
    "    if k == 0:\n",
    "        # Blue used for 0 that is Chennai.\n",
    "        col = 'b'\n",
    "\n",
    "    class_member_mask = (labels == k)\n",
    "   \n",
    "    if k == 1:\n",
    "        # Green used for 1 that is Coimbatore.\n",
    "        col = 'g'\n",
    "\n",
    "    class_member_mask = (labels == k)\n",
    "    \n",
    "    if k == 2:\n",
    "        # Red used for 2 that is Madurai.\n",
    "        col = 'r'\n",
    "\n",
    "    class_member_mask = (labels == k)\n",
    "    \n",
    "    if k == 3:\n",
    "        # Cyan used for 3 that is Salem.\n",
    "        col = 'c'\n",
    "\n",
    "    class_member_mask = (labels == k)\n",
    "    \n",
    "    if k == 4:\n",
    "        # Magenta used for 4 that is Thoothukudi.\n",
    "        col = 'm'\n",
    "\n",
    "    class_member_mask = (labels == k)\n",
    "\n",
    "    xy = X[class_member_mask & core_samples_mask]\n",
    "    plt.plot(xy[:, 0], xy[:, 1], 'o', markerfacecolor=col,\n",
    "             markeredgecolor='k', markersize=14)\n",
    "\n",
    "    xy = X[class_member_mask & ~core_samples_mask]\n",
    "    plt.plot(xy[:, 0], xy[:, 1], 'o', markerfacecolor=col,\n",
    "             markeredgecolor='k', markersize=6)\n",
    "\n",
    "plt.title('Estimated number of clusters: %d' % n_clusters_)\n",
    "plt.legend(['Chennai','', 'Coimbatore','','Madurai','', 'Salem','', 'Thoothukudi','',], loc='center left', bbox_to_anchor=(1.05, 1))\n",
    "plt.show()"
   ]
  },
  {
   "cell_type": "markdown",
   "metadata": {},
   "source": [
    "### Inference (with respect to the dataset):\n",
    "        The Chennai city is heighest polluted city.\n",
    "        The Thoothukudi city is least polluted city."
   ]
  }
 ],
 "metadata": {
  "kernelspec": {
   "display_name": "Python 3",
   "language": "python",
   "name": "python3"
  },
  "language_info": {
   "codemirror_mode": {
    "name": "ipython",
    "version": 3
   },
   "file_extension": ".py",
   "mimetype": "text/x-python",
   "name": "python",
   "nbconvert_exporter": "python",
   "pygments_lexer": "ipython3",
   "version": "3.8.5"
  }
 },
 "nbformat": 4,
 "nbformat_minor": 4
}
